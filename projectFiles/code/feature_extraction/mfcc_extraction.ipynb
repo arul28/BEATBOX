{
 "cells": [
  {
   "cell_type": "markdown",
   "metadata": {},
   "source": [
    "# MFCC Feature Extraction\n",
    "\n",
    "Extract mfcc coeffecients from both normal and augmented segments"
   ]
  },
  {
   "cell_type": "code",
   "execution_count": 7,
   "metadata": {},
   "outputs": [],
   "source": [
    "import os\n",
    "import numpy as np\n",
    "import librosa\n",
    "import soundfile as sf\n",
    "import pandas as pd\n",
    "from pathlib import Path\n",
    "from tqdm import tqdm"
   ]
  },
  {
   "cell_type": "code",
   "execution_count": 8,
   "metadata": {},
   "outputs": [],
   "source": [
    "def extract_mfcc_features(segment_info_path, segments_dir='../../segments', n_mfcc=13, features_output_dir='../../extracted_features/features/mfcc_features.npy', labels_output_dir='../../extracted_features/labels/mfcc_labels.npy'):\n",
    "    \"\"\"\n",
    "    Extract MFCC features from segmented audio files.\n",
    "    \n",
    "    Args:\n",
    "        segment_info_path: Path to segment_info.csv\n",
    "        segments_dir: Directory containing the audio segments (either 'segments' or 'augmentedSegments')\n",
    "        n_mfcc: Number of MFCC coefficients to compute\n",
    "    \"\"\"\n",
    "    # Load segment info\n",
    "    metadata = pd.read_csv(segment_info_path)\n",
    "    \n",
    "    # Update paths to use the specified segments directory\n",
    "    segments_path = Path(segments_dir)\n",
    "    metadata['segment_path'] = metadata['segment_path'].apply(\n",
    "        lambda x: str(segments_path / Path(x).name))\n",
    "    \n",
    "    # Initialize arrays to store features and labels\n",
    "    features = []\n",
    "    labels = []\n",
    "    \n",
    "    print(f\"Extracting MFCC features from {segments_dir}...\")\n",
    "    for idx, row in tqdm(metadata.iterrows(), total=len(metadata)):\n",
    "        try:\n",
    "            # Load audio segment\n",
    "            y, sr = librosa.load(row['segment_path'])\n",
    "            \n",
    "            # Extract MFCCs\n",
    "            mfcc = librosa.feature.mfcc(y=y, sr=sr, n_mfcc=n_mfcc)\n",
    "            \n",
    "            # Take mean of each coefficient over time\n",
    "            mfcc_mean = np.mean(mfcc, axis=1)\n",
    "            \n",
    "            features.append(mfcc_mean)\n",
    "            labels.append(row['instrument_label'])\n",
    "            \n",
    "        except Exception as e:\n",
    "            print(f\"Error processing {row['segment_path']}: {str(e)}\")\n",
    "            metadata = metadata.drop(idx)\n",
    "            continue\n",
    "    \n",
    "    # Convert to numpy arrays\n",
    "    X = np.array(features)\n",
    "    y = np.array(labels)\n",
    "    \n",
    "    # Create features directory if it doesn't exist\n",
    "    # output_dir = Path('features')\n",
    "    # output_dir.mkdir(exist_ok=True, parents=True)\n",
    "    \n",
    "    # Save features and labels with directory-specific names\n",
    "    np.save(features_output_dir, X)\n",
    "    np.save(labels_output_dir, y)\n",
    "    \n",
    "    return X, y, metadata"
   ]
  },
  {
   "cell_type": "code",
   "execution_count": 11,
   "metadata": {},
   "outputs": [
    {
     "name": "stdout",
     "output_type": "stream",
     "text": [
      "Extracting MFCC features from ../../segments...\n"
     ]
    },
    {
     "name": "stderr",
     "output_type": "stream",
     "text": [
      "100%|██████████| 5714/5714 [00:08<00:00, 637.75it/s]\n"
     ]
    }
   ],
   "source": [
    "segment_info_path = '../../segment_info/segment_info.csv'\n",
    "augmented_segment_info_path = '../../segment_info/augmented_segment_info.csv'\n",
    "\n",
    "os.makedirs('../../extracted_features/features', exist_ok=True)\n",
    "os.makedirs('../../extracted_features/labels', exist_ok=True)\n",
    "\n",
    "X_mfcc, y_mfcc, metadata_mfcc = extract_mfcc_features(\n",
    "    segment_info_path,\n",
    "    segments_dir='../../segments',\n",
    "    features_output_dir='../../extracted_features/features/mfcc_features.npy',\n",
    "    labels_output_dir='../../extracted_features/labels/mfcc_labels.npy'\n",
    ")"
   ]
  },
  {
   "cell_type": "code",
   "execution_count": 10,
   "metadata": {},
   "outputs": [
    {
     "name": "stdout",
     "output_type": "stream",
     "text": [
      "Extracting MFCC features from ../../augmentedSegments...\n"
     ]
    },
    {
     "name": "stderr",
     "output_type": "stream",
     "text": [
      "100%|██████████| 34284/34284 [00:49<00:00, 689.28it/s]\n"
     ]
    }
   ],
   "source": [
    "X_mfcc_aug, y_mfcc_aug, metadata_mfcc_aug = extract_mfcc_features(\n",
    "    augmented_segment_info_path,\n",
    "    segments_dir='../../augmentedSegments',\n",
    "    features_output_dir='../../extracted_features/features/mfcc_features_aug.npy',\n",
    "    labels_output_dir='../../extracted_features/labels/mfcc_labels_aug.npy'\n",
    ")"
   ]
  }
 ],
 "metadata": {
  "kernelspec": {
   "display_name": "venv",
   "language": "python",
   "name": "python3"
  },
  "language_info": {
   "codemirror_mode": {
    "name": "ipython",
    "version": 3
   },
   "file_extension": ".py",
   "mimetype": "text/x-python",
   "name": "python",
   "nbconvert_exporter": "python",
   "pygments_lexer": "ipython3",
   "version": "3.13.1"
  }
 },
 "nbformat": 4,
 "nbformat_minor": 2
}
