{
 "cells": [
  {
   "cell_type": "markdown",
   "metadata": {},
   "source": [
    "# Augment Segments via techniques in paper"
   ]
  },
  {
   "cell_type": "code",
   "execution_count": 5,
   "metadata": {},
   "outputs": [],
   "source": [
    "import os\n",
    "import numpy as np\n",
    "import librosa\n",
    "import soundfile as sf\n",
    "import pandas as pd\n",
    "from pathlib import Path\n",
    "from tqdm import tqdm\n",
    "\n",
    "def augment_segments(input_dir='../segments', output_dir='../augmentedSegments', num_augmentations=5):\n",
    "    \"\"\"\n",
    "    Augment audio segments using pitch shifting and time stretching.\n",
    "    \n",
    "    Args:\n",
    "        input_dir (str): Directory containing original segments\n",
    "        output_dir (str): Directory to save augmented segments\n",
    "        num_augmentations (int): Number of augmented versions to create per segment\n",
    "    \"\"\"\n",
    "    # Create output directory\n",
    "    output_path = Path(output_dir)\n",
    "    output_path.mkdir(exist_ok=True, parents=True)\n",
    "    \n",
    "    # Load original segment info\n",
    "    original_info = pd.read_csv('../segment_info/segment_info.csv')\n",
    "    augmented_info = []\n",
    "    \n",
    "    # Copy original segments and their info\n",
    "    print(\"Copying original segments...\")\n",
    "    for _, row in tqdm(original_info.iterrows()):\n",
    "        orig_path = Path(row['segment_path'])\n",
    "        new_path = output_path / orig_path.name\n",
    "        \n",
    "        # Copy the audio file\n",
    "        y, sr = sf.read(orig_path)\n",
    "        sf.write(str(new_path), y, sr)\n",
    "        \n",
    "        # Add original file info to augmented dataset\n",
    "        augmented_info.append({\n",
    "            'segment_path': str(new_path),\n",
    "            'instrument_label': row['instrument_label'],\n",
    "            'participant_id': row['participant_id'],\n",
    "            'dataset': row['dataset'],\n",
    "            'original_wav': row['original_wav'],\n",
    "            'onset_time': row['onset_time']\n",
    "        })\n",
    "    \n",
    "    # Parameters for augmentation\n",
    "    pitch_shift_range = (-1.5, 1.5)  # semitones\n",
    "    time_stretch_range = (0.8, 1.2)   # rate\n",
    "    \n",
    "    # Process each file\n",
    "    print(\"\\nGenerating augmented segments...\")\n",
    "    for _, row in tqdm(original_info.iterrows()):\n",
    "        orig_path = Path(row['segment_path'])\n",
    "        y, sr = librosa.load(orig_path)\n",
    "        \n",
    "        # Create multiple augmented versions\n",
    "        for i in range(num_augmentations):\n",
    "            # Randomly choose augmentation order\n",
    "            if np.random.random() > 0.5:\n",
    "                # Pitch shift then time stretch\n",
    "                pitch_shift = np.random.uniform(*pitch_shift_range)\n",
    "                y_aug = librosa.effects.pitch_shift(y, sr=sr, n_steps=pitch_shift)\n",
    "                \n",
    "                time_stretch = np.random.uniform(*time_stretch_range)\n",
    "                y_aug = librosa.effects.time_stretch(y_aug, rate=time_stretch)\n",
    "            else:\n",
    "                # Time stretch then pitch shift\n",
    "                time_stretch = np.random.uniform(*time_stretch_range)\n",
    "                y_aug = librosa.effects.time_stretch(y, rate=time_stretch)\n",
    "                \n",
    "                pitch_shift = np.random.uniform(*pitch_shift_range)\n",
    "                y_aug = librosa.effects.pitch_shift(y_aug, sr=sr, n_steps=pitch_shift)\n",
    "            \n",
    "            # Generate augmented filename\n",
    "            aug_name = f\"{orig_path.stem}_aug{i+1}.wav\"\n",
    "            aug_path = output_path / aug_name\n",
    "            \n",
    "            # Save augmented audio\n",
    "            sf.write(str(aug_path), y_aug, sr)\n",
    "            \n",
    "            # Add augmented file info\n",
    "            augmented_info.append({\n",
    "                'segment_path': str(aug_path),\n",
    "                'instrument_label': row['instrument_label'],\n",
    "                'participant_id': row['participant_id'],\n",
    "                'dataset': row['dataset'],\n",
    "                'original_wav': row['original_wav'],\n",
    "                'onset_time': row['onset_time']\n",
    "            })\n",
    "    \n",
    "    # Create and save augmented segment info\n",
    "    augmented_df = pd.DataFrame(augmented_info)\n",
    "    augmented_df.to_csv('../segment_info/augmented_segment_info.csv', index=False)\n",
    "    \n",
    "    # Print summary\n",
    "    total_files = len(augmented_info)\n",
    "    original_count = len(original_info)\n",
    "    print(f\"\\nAugmentation complete!\")\n",
    "    print(f\"Original segments: {original_count}\")\n",
    "    print(f\"Total segments after augmentation: {total_files}\")\n",
    "    print(f\"New segments added: {total_files - original_count}\")\n",
    "    \n",
    "    return output_path"
   ]
  },
  {
   "cell_type": "code",
   "execution_count": 6,
   "metadata": {},
   "outputs": [
    {
     "name": "stdout",
     "output_type": "stream",
     "text": [
      "Copying original segments...\n"
     ]
    },
    {
     "name": "stderr",
     "output_type": "stream",
     "text": [
      "5714it [00:01, 2925.78it/s]\n"
     ]
    },
    {
     "name": "stdout",
     "output_type": "stream",
     "text": [
      "\n",
      "Generating augmented segments...\n"
     ]
    },
    {
     "name": "stderr",
     "output_type": "stream",
     "text": [
      "5714it [01:49, 52.02it/s]\n"
     ]
    },
    {
     "name": "stdout",
     "output_type": "stream",
     "text": [
      "\n",
      "Augmentation complete!\n",
      "Original segments: 5714\n",
      "Total segments after augmentation: 34284\n",
      "New segments added: 28570\n"
     ]
    }
   ],
   "source": [
    "augmented_dir = augment_segments(\"../segments\", \"../augmentedSegments\", num_augmentations=5)"
   ]
  }
 ],
 "metadata": {
  "kernelspec": {
   "display_name": "venv",
   "language": "python",
   "name": "python3"
  },
  "language_info": {
   "codemirror_mode": {
    "name": "ipython",
    "version": 3
   },
   "file_extension": ".py",
   "mimetype": "text/x-python",
   "name": "python",
   "nbconvert_exporter": "python",
   "pygments_lexer": "ipython3",
   "version": "3.13.1"
  }
 },
 "nbformat": 4,
 "nbformat_minor": 2
}
